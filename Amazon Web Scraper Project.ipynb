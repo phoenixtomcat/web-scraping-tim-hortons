{
 "cells": [
  {
   "cell_type": "markdown",
   "id": "9610326d-4d42-4c9e-a2a3-ed6c54e74cba",
   "metadata": {},
   "source": [
    "# Amazon Web Scraping Project"
   ]
  },
  {
   "cell_type": "code",
   "execution_count": 66,
   "id": "0c2249dc-7c8b-4e8b-bf07-cb40789f2748",
   "metadata": {},
   "outputs": [],
   "source": [
    "from bs4 import BeautifulSoup\n",
    "import requests\n",
    "import smtplib\n",
    "import time\n",
    "import datetime\n",
    "import csv\n",
    "import pandas as pd"
   ]
  },
  {
   "cell_type": "code",
   "execution_count": 50,
   "id": "b5fb9a3b-e3cf-4b07-b0f8-4e1beb6d7e5a",
   "metadata": {},
   "outputs": [
    {
     "name": "stdout",
     "output_type": "stream",
     "text": [
      "Tim Hortons Original Coffee blend, Single Serve Keurig K-Cup Pods, Medium Roast, 48 Count\n",
      "$30.99\n"
     ]
    }
   ],
   "source": [
    "url = \"https://www.amazon.ca/Tim-Hortons-Original-Coffee-Single/dp/B07J1VPGYL/144-3207569-7025651?pd_rd_w=DPFpR&content-id=amzn1.sym.9286c396-f989-473f-a51f-aeb6f0ce4e48&pf_rd_p=9286c396-f989-473f-a51f-aeb6f0ce4e48&pf_rd_r=P3Y2TN5H9PY22GY045VB&pd_rd_wg=izKgl&pd_rd_r=8759f6fc-b89c-4769-bbdf-c1d844473bd4&pd_rd_i=B07J1VPGYL&th=1\"\n",
    "\n",
    "headers =headers = {\n",
    "    \"User-Agent\": \"Mozilla/5.0 (Windows NT 10.0; Win64; x64) AppleWebKit/537.36 (KHTML, like Gecko) Chrome/114.0.5735.199 Safari/537.36\",\n",
    "    \"Accept-Language\": \"en-US,en;q=0.9\",\n",
    "}\n",
    "# copy from https://httpbin.org/get\n",
    "\n",
    "page = requests.get(url, headers=headers)\n",
    "\n",
    "# print(page.content) # check for bot blocking\n",
    "\n",
    "soup = BeautifulSoup(page.content, \"html.parser\")\n",
    "\n",
    "title = soup.find(id='productTitle').get_text().strip()\n",
    "price = soup.find('span', class_='a-offscreen').get_text()\n",
    "# price = soup.find('span',class_='a-offscreen').get_text().replace(\"$\",\"\")\n",
    "\n",
    "# print(soup)\n",
    "print(title)\n",
    "print(price)"
   ]
  },
  {
   "cell_type": "code",
   "execution_count": 52,
   "id": "a5dffa9a-83f3-4fed-b7dc-dbea1784ffd6",
   "metadata": {},
   "outputs": [
    {
     "name": "stdout",
     "output_type": "stream",
     "text": [
      "Tim Hortons Original Coffee blend, Single Serve Keurig K-Cup Pods, Medium Roast, 48 Count\n",
      "30.99\n"
     ]
    },
    {
     "data": {
      "text/plain": [
       "str"
      ]
     },
     "execution_count": 52,
     "metadata": {},
     "output_type": "execute_result"
    }
   ],
   "source": [
    "price = price.strip()[1:] # from first position forward \n",
    "title = title.strip()\n",
    "\n",
    "print(title)\n",
    "print(price)\n",
    "type(price)"
   ]
  },
  {
   "cell_type": "code",
   "execution_count": 64,
   "id": "71cb28e1-7a78-4d9e-b421-70b8b85f0aa8",
   "metadata": {},
   "outputs": [],
   "source": [
    "header = ['Title', 'Price']\n",
    "data = [title, price]\n",
    "\n",
    "type(data)\n",
    "\n",
    "with open(r\"C:\\Users\\capra\\OneDrive\\Alex The Analyst\\Python\\Output for Full Project\\AmazonWebScraperDataset.csv\", 'w', newline='', encoding = 'UTF8') as f:\n",
    "    writer = csv.writer(f)\n",
    "    writer.writerow(header)\n",
    "    writer.writerow(data)\n",
    "\n"
   ]
  },
  {
   "cell_type": "code",
   "execution_count": 68,
   "id": "f3bca433-b23d-455c-97ae-f4cf68542e6c",
   "metadata": {},
   "outputs": [
    {
     "name": "stdout",
     "output_type": "stream",
     "text": [
      "                                               Title  Price\n",
      "0  Tim Hortons Original Coffee blend, Single Serv...  30.99\n"
     ]
    }
   ],
   "source": [
    "df = pd.read_csv(r\"C:\\Users\\capra\\OneDrive\\Alex The Analyst\\Python\\Output for Full Project\\AmazonWebScraperDataset.csv\")\n",
    "\n",
    "print(df)"
   ]
  },
  {
   "cell_type": "code",
   "execution_count": 70,
   "id": "b3660b91-5509-4c43-abbf-8ee6c061c805",
   "metadata": {},
   "outputs": [],
   "source": [
    "# appending data to the csv \n",
    "\n",
    "with open(r\"C:\\Users\\capra\\OneDrive\\Alex The Analyst\\Python\\Output for Full Project\\AmazonWebScraperDataset.csv\", 'a+', newline='', encoding = 'UTF8') as f:\n",
    "    writer = csv.writer(f)\n",
    "    writer.writerow(data)"
   ]
  },
  {
   "cell_type": "code",
   "execution_count": 74,
   "id": "4257351d-660c-4cd5-9848-d000ea74538d",
   "metadata": {},
   "outputs": [],
   "source": [
    "import datetime\n",
    "import csv\n",
    "\n",
    "def check_price():\n",
    "    url = \"https://www.amazon.ca/Tim-Hortons-Original-Coffee-Single/dp/B07J1VPGYL/144-3207569-7025651?pd_rd_w=DPFpR&content-id=amzn1.sym.9286c396-f989-473f-a51f-aeb6f0ce4e48&pf_rd_p=9286c396-f989-473f-a51f-aeb6f0ce4e48&pf_rd_r=P3Y2TN5H9PY22GY045VB&pd_rd_wg=izKgl&pd_rd_r=8759f6fc-b89c-4769-bbdf-c1d844473bd4&pd_rd_i=B07J1VPGYL&th=1\"\n",
    "\n",
    "    headers = headers = {\n",
    "    \"User-Agent\": \"Mozilla/5.0 (Windows NT 10.0; Win64; x64) AppleWebKit/537.36 (KHTML, like Gecko) Chrome/114.0.5735.199 Safari/537.36\",\n",
    "    \"Accept-Language\": \"en-US,en;q=0.9\"}\n",
    "\n",
    "    page = requests.get(url, headers=headers)\n",
    "    soup = BeautifulSoup(page.content, \"html.parser\")\n",
    "    title = soup.find(id='productTitle').get_text().strip()\n",
    "    price = soup.find('span', class_='a-offscreen').get_text()\n",
    "    price = price.strip()[1:] # from first position forward \n",
    "    title = title.strip()\n",
    "    today = datetime.date.today()\n",
    "    \n",
    "    with open(r\"C:\\Users\\capra\\OneDrive\\Alex The Analyst\\Python\\Output for Full Project\\AmazonWebScraperDataset.csv\", 'a+', newline='', encoding = 'UTF8') as f:\n",
    "        writer = csv.writer(f)\n",
    "        writer.writerow(data)"
   ]
  },
  {
   "cell_type": "code",
   "execution_count": null,
   "id": "75e90d12-6fcd-4242-bd88-a375cd5adf65",
   "metadata": {},
   "outputs": [],
   "source": [
    "# frequency of checks using the function\n",
    "\n",
    "while(True):\n",
    "    check_price() \n",
    "    time.sleep(86400) #run every 86400 seconds\n",
    "    # run every day: counted in seconds (60 seconds x 60 min x 24 hours = 86,400 seconds)\n",
    "\n",
    "df = pd.read_csv(r\"C:\\Users\\capra\\OneDrive\\Alex The Analyst\\Python\\Output for Full Project\\AmazonWebScraperDataset.csv\")\n",
    "\n",
    "print(df)"
   ]
  },
  {
   "cell_type": "code",
   "execution_count": null,
   "id": "d9abebc2-ecd2-4505-93ac-83363d30336a",
   "metadata": {},
   "outputs": [],
   "source": []
  }
 ],
 "metadata": {
  "kernelspec": {
   "display_name": "Python [conda env:base] *",
   "language": "python",
   "name": "conda-base-py"
  },
  "language_info": {
   "codemirror_mode": {
    "name": "ipython",
    "version": 3
   },
   "file_extension": ".py",
   "mimetype": "text/x-python",
   "name": "python",
   "nbconvert_exporter": "python",
   "pygments_lexer": "ipython3",
   "version": "3.12.7"
  }
 },
 "nbformat": 4,
 "nbformat_minor": 5
}
